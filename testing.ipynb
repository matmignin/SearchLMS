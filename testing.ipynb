{
 "cells": [
  {
   "cell_type": "code",
   "execution_count": 360,
   "metadata": {},
   "outputs": [],
   "source": [
    "import oracledb\n",
    "import os\n",
    "import pandas as pd\n",
    "import numpy as np\n",
    "import openpyxl\n",
    "from dotenv import load_dotenv\n",
    "from pandas import DataFrame\n",
    "load_dotenv()\n",
    "\n",
    "user = os.environ.get('SQL_USER')\n",
    "password = os.environ.get('SQL_PASSWORD')\n"
   ]
  },
  {
   "attachments": {},
   "cell_type": "markdown",
   "metadata": {},
   "source": [
    "### can connect with dsn = \"tst\" or \"prd\""
   ]
  },
  {
   "cell_type": "code",
   "execution_count": 366,
   "metadata": {},
   "outputs": [],
   "source": [
    "with oracledb.connect(user=user, password=password,dsn=\"prd\",config_dir=\".venv/\") as connection:\n",
    "\twith connection.cursor() as cursor: \n",
    "\t\twith open('query.sql') as f:\n",
    "\t\t\tfull_sql = f.read()\n",
    "\t\t\t\n",
    "\t\t\tdf = pd.DataFrame(cursor.execute(full_sql), columns=['Product','Batch','Methods','Customer','QC Sample In','Analytical Done','Micro Sample In','CoA Issued'])\n",
    "df.to_excel(\"newfile.xlsx\")"
   ]
  }
 ],
 "metadata": {
  "kernelspec": {
   "display_name": ".venv",
   "language": "python",
   "name": "python3"
  },
  "language_info": {
   "codemirror_mode": {
    "name": "ipython",
    "version": 3
   },
   "file_extension": ".py",
   "mimetype": "text/x-python",
   "name": "python",
   "nbconvert_exporter": "python",
   "pygments_lexer": "ipython3",
   "version": "3.9.6 (default, Sep 26 2022, 11:37:49) \n[Clang 14.0.0 (clang-1400.0.29.202)]"
  },
  "orig_nbformat": 4,
  "vscode": {
   "interpreter": {
    "hash": "ca5dc225cea08e2dd71c346b020dd2e7346b5d6d950eedc2d36df8715d5489f7"
   }
  }
 },
 "nbformat": 4,
 "nbformat_minor": 2
}
