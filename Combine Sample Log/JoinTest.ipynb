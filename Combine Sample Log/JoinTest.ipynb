{
 "cells": [
  {
   "cell_type": "code",
   "execution_count": 41,
   "metadata": {},
   "outputs": [
    {
     "ename": "XlwingsError",
     "evalue": "Make sure to have \"appscript\" and \"psutil\", dependencies of xlwings, installed.",
     "output_type": "error",
     "traceback": [
      "\u001b[0;31m---------------------------------------------------------------------------\u001b[0m",
      "\u001b[0;31mXlwingsError\u001b[0m                              Traceback (most recent call last)",
      "Cell \u001b[0;32mIn[41], line 9\u001b[0m\n\u001b[1;32m      4\u001b[0m \u001b[39mimport\u001b[39;00m \u001b[39mxlwings\u001b[39;00m \u001b[39mas\u001b[39;00m \u001b[39mxw\u001b[39;00m\n\u001b[1;32m      5\u001b[0m \u001b[39mimport\u001b[39;00m \u001b[39mxlrd\u001b[39;00m\n\u001b[0;32m----> 9\u001b[0m wb \u001b[39m=\u001b[39m xw\u001b[39m.\u001b[39;49mBook(\u001b[39m'\u001b[39;49m\u001b[39m/Users/matbook/Projects/SearchLMS/Combine Sample Log/SAMPLELOG2022.xlsx/SAMPLELOG2022.xlsx\u001b[39;49m\u001b[39m'\u001b[39;49m)\n\u001b[1;32m     10\u001b[0m sheet \u001b[39m=\u001b[39m wb\u001b[39m.\u001b[39msheets[\u001b[39m0\u001b[39m]\n\u001b[1;32m     11\u001b[0m df \u001b[39m=\u001b[39m sheet\u001b[39m.\u001b[39mused_range\u001b[39m.\u001b[39moptions(pd\u001b[39m.\u001b[39mDataFrame, index\u001b[39m=\u001b[39m\u001b[39mFalse\u001b[39;00m, header\u001b[39m=\u001b[39m\u001b[39mTrue\u001b[39;00m)\u001b[39m.\u001b[39mvalue\n",
      "File \u001b[0;32m~/Projects/SearchLMS/.venv/lib/python3.9/site-packages/xlwings/main.py:895\u001b[0m, in \u001b[0;36mBook.__init__\u001b[0;34m(self, fullname, update_links, read_only, format, password, write_res_password, ignore_read_only_recommended, origin, delimiter, editable, notify, converter, add_to_mru, local, corrupt_load, impl, json, mode, engine)\u001b[0m\n\u001b[1;32m    892\u001b[0m fullname \u001b[39m=\u001b[39m fullname\u001b[39m.\u001b[39mlower()\n\u001b[1;32m    894\u001b[0m candidates \u001b[39m=\u001b[39m []\n\u001b[0;32m--> 895\u001b[0m \u001b[39mfor\u001b[39;00m app \u001b[39min\u001b[39;00m apps:\n\u001b[1;32m    896\u001b[0m     \u001b[39mfor\u001b[39;00m wb \u001b[39min\u001b[39;00m app\u001b[39m.\u001b[39mbooks:\n\u001b[1;32m    897\u001b[0m         \u001b[39m# Comparing by name first saves us from having to compare the\u001b[39;00m\n\u001b[1;32m    898\u001b[0m         \u001b[39m# fullname for non-candidates, which can get around issues in\u001b[39;00m\n\u001b[1;32m    899\u001b[0m         \u001b[39m# case the fullname is a problematic URL (GH 1946)\u001b[39;00m\n\u001b[1;32m    900\u001b[0m         \u001b[39mif\u001b[39;00m wb\u001b[39m.\u001b[39mname\u001b[39m.\u001b[39mlower() \u001b[39m==\u001b[39m os\u001b[39m.\u001b[39mpath\u001b[39m.\u001b[39msplit(fullname)[\u001b[39m1\u001b[39m]\u001b[39m.\u001b[39mlower() \u001b[39mand\u001b[39;00m (\n\u001b[1;32m    901\u001b[0m             wb\u001b[39m.\u001b[39mfullname\u001b[39m.\u001b[39mlower() \u001b[39m==\u001b[39m fullname\n\u001b[1;32m    902\u001b[0m             \u001b[39mor\u001b[39;00m wb\u001b[39m.\u001b[39mname\u001b[39m.\u001b[39mlower() \u001b[39m==\u001b[39m fullname\n\u001b[1;32m    903\u001b[0m         ):\n",
      "File \u001b[0;32m~/Projects/SearchLMS/.venv/lib/python3.9/site-packages/xlwings/main.py:240\u001b[0m, in \u001b[0;36mApps.__iter__\u001b[0;34m(self)\u001b[0m\n\u001b[1;32m    239\u001b[0m \u001b[39mdef\u001b[39;00m \u001b[39m__iter__\u001b[39m(\u001b[39mself\u001b[39m):\n\u001b[0;32m--> 240\u001b[0m     \u001b[39mfor\u001b[39;00m app \u001b[39min\u001b[39;00m \u001b[39mself\u001b[39;49m\u001b[39m.\u001b[39;49mimpl:\n\u001b[1;32m    241\u001b[0m         \u001b[39myield\u001b[39;00m App(impl\u001b[39m=\u001b[39mapp)\n",
      "File \u001b[0;32m~/Projects/SearchLMS/.venv/lib/python3.9/site-packages/xlwings/main.py:5117\u001b[0m, in \u001b[0;36mActiveEngineApps.impl\u001b[0;34m(self)\u001b[0m\n\u001b[1;32m   5112\u001b[0m     \u001b[39mraise\u001b[39;00m XlwingsError(\n\u001b[1;32m   5113\u001b[0m         \u001b[39m\"\u001b[39m\u001b[39mYour platform only supports the \u001b[39m\u001b[39m\"\u001b[39m\n\u001b[1;32m   5114\u001b[0m         \u001b[39m\"\u001b[39m\u001b[39minstantiation via xw.Book(json=...)\u001b[39m\u001b[39m\"\u001b[39m\n\u001b[1;32m   5115\u001b[0m     )\n\u001b[1;32m   5116\u001b[0m \u001b[39melif\u001b[39;00m sys\u001b[39m.\u001b[39mplatform\u001b[39m.\u001b[39mstartswith(\u001b[39m\"\u001b[39m\u001b[39mdarwin\u001b[39m\u001b[39m\"\u001b[39m):\n\u001b[0;32m-> 5117\u001b[0m     \u001b[39mraise\u001b[39;00m XlwingsError(\n\u001b[1;32m   5118\u001b[0m         \u001b[39m'\u001b[39m\u001b[39mMake sure to have \u001b[39m\u001b[39m\"\u001b[39m\u001b[39mappscript\u001b[39m\u001b[39m\"\u001b[39m\u001b[39m and \u001b[39m\u001b[39m\"\u001b[39m\u001b[39mpsutil\u001b[39m\u001b[39m\"\u001b[39m\u001b[39m, \u001b[39m\u001b[39m'\u001b[39m\n\u001b[1;32m   5119\u001b[0m         \u001b[39m\"\u001b[39m\u001b[39mdependencies of xlwings, installed.\u001b[39m\u001b[39m\"\u001b[39m\n\u001b[1;32m   5120\u001b[0m     )\n\u001b[1;32m   5121\u001b[0m \u001b[39melif\u001b[39;00m sys\u001b[39m.\u001b[39mplatform\u001b[39m.\u001b[39mstartswith(\u001b[39m\"\u001b[39m\u001b[39mwin\u001b[39m\u001b[39m\"\u001b[39m):\n\u001b[1;32m   5122\u001b[0m     \u001b[39mraise\u001b[39;00m XlwingsError(\n\u001b[1;32m   5123\u001b[0m         \u001b[39m'\u001b[39m\u001b[39mMake sure to have \u001b[39m\u001b[39m\"\u001b[39m\u001b[39mpywin32\u001b[39m\u001b[39m\"\u001b[39m\u001b[39m, a dependency of xlwings, installed.\u001b[39m\u001b[39m'\u001b[39m\n\u001b[1;32m   5124\u001b[0m     )\n",
      "\u001b[0;31mXlwingsError\u001b[0m: Make sure to have \"appscript\" and \"psutil\", dependencies of xlwings, installed."
     ]
    }
   ],
   "source": [
    "import pandas as pd \n",
    "# from openpyxl import load_workbook\n",
    "# import os\n",
    "import xlwings as xw\n",
    "import xlrd\n",
    "\n",
    "\n",
    "\n",
    "wb = xw.Book('/Users/matbook/Projects/SearchLMS/Combine Sample Log/SAMPLELOG2022.xlsx/SAMPLELOG2022.xlsx')\n",
    "sheet = wb.sheets[0]\n",
    "df = sheet.used_range.options(pd.DataFrame, index=False, header=True).value\n",
    "wb.close()\n",
    "df\n",
    "# single_df"
   ]
  }
 ],
 "metadata": {
  "kernelspec": {
   "display_name": ".venv",
   "language": "python",
   "name": "python3"
  },
  "language_info": {
   "codemirror_mode": {
    "name": "ipython",
    "version": 3
   },
   "file_extension": ".py",
   "mimetype": "text/x-python",
   "name": "python",
   "nbconvert_exporter": "python",
   "pygments_lexer": "ipython3",
   "version": "3.9.6"
  },
  "orig_nbformat": 4,
  "vscode": {
   "interpreter": {
    "hash": "ca5dc225cea08e2dd71c346b020dd2e7346b5d6d950eedc2d36df8715d5489f7"
   }
  }
 },
 "nbformat": 4,
 "nbformat_minor": 2
}
